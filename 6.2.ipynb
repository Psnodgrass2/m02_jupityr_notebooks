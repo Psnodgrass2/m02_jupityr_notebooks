{
 "cells": [
  {
   "cell_type": "code",
   "execution_count": 1,
   "id": "fd9d4fa0",
   "metadata": {},
   "outputs": [],
   "source": [
    "guess_me = 7\n",
    "number = 1\n",
    "foundit = False"
   ]
  },
  {
   "cell_type": "code",
   "execution_count": 2,
   "id": "8fa98fb8",
   "metadata": {},
   "outputs": [
    {
     "name": "stdout",
     "output_type": "stream",
     "text": [
      "too low\n",
      "too low\n",
      "too low\n",
      "too low\n",
      "too low\n",
      "too low\n",
      "you found it\n"
     ]
    }
   ],
   "source": [
    "while foundit == False:\n",
    "    if  guess_me > number:\n",
    "        print(\"too low\")\n",
    "        number += 1\n",
    "    elif guess_me < number:\n",
    "        print(\"too high\")\n",
    "        number -= 1\n",
    "    else:\n",
    "        print(\"you found it\")\n",
    "        foundit = True"
   ]
  },
  {
   "cell_type": "code",
   "execution_count": null,
   "id": "2d01d1f1",
   "metadata": {},
   "outputs": [],
   "source": []
  },
  {
   "cell_type": "code",
   "execution_count": null,
   "id": "71bef20d",
   "metadata": {},
   "outputs": [],
   "source": []
  }
 ],
 "metadata": {
  "kernelspec": {
   "display_name": "Python 3 (ipykernel)",
   "language": "python",
   "name": "python3"
  },
  "language_info": {
   "codemirror_mode": {
    "name": "ipython",
    "version": 3
   },
   "file_extension": ".py",
   "mimetype": "text/x-python",
   "name": "python",
   "nbconvert_exporter": "python",
   "pygments_lexer": "ipython3",
   "version": "3.9.13"
  }
 },
 "nbformat": 4,
 "nbformat_minor": 5
}
