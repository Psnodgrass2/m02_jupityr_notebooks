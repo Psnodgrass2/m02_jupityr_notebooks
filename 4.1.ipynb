{
 "cells": [
  {
   "cell_type": "code",
   "execution_count": 1,
   "id": "feb69cbc",
   "metadata": {},
   "outputs": [],
   "source": [
    "import random"
   ]
  },
  {
   "cell_type": "code",
   "execution_count": 2,
   "id": "f721072a",
   "metadata": {},
   "outputs": [],
   "source": [
    "randomnum = random.randint(1,10)"
   ]
  },
  {
   "cell_type": "code",
   "execution_count": 3,
   "id": "274612bd",
   "metadata": {},
   "outputs": [
    {
     "name": "stdout",
     "output_type": "stream",
     "text": [
      "too high\n"
     ]
    }
   ],
   "source": [
    "if randomnum > 5:\n",
    "    print(\"too low\")\n",
    "elif randomnum <5:\n",
    "    print(\"too high\")\n",
    "else:\n",
    "    print(\"you found it\")"
   ]
  },
  {
   "cell_type": "code",
   "execution_count": 4,
   "id": "357e6315",
   "metadata": {},
   "outputs": [
    {
     "name": "stdout",
     "output_type": "stream",
     "text": [
      "too high\n"
     ]
    }
   ],
   "source": [
    "if randomnum > 7:\n",
    "    print(\"too low\")\n",
    "elif randomnum <7:\n",
    "    print(\"too high\")\n",
    "else:\n",
    "    print(\"you found it\")"
   ]
  },
  {
   "cell_type": "code",
   "execution_count": 5,
   "id": "d4f7a6a8",
   "metadata": {},
   "outputs": [
    {
     "name": "stdout",
     "output_type": "stream",
     "text": [
      "too high\n"
     ]
    }
   ],
   "source": [
    "if randomnum > 6:\n",
    "    print(\"too low\")\n",
    "elif randomnum <6:\n",
    "    print(\"too high\")\n",
    "else:\n",
    "    print(\"you found it\")"
   ]
  },
  {
   "cell_type": "code",
   "execution_count": 6,
   "id": "6d0b9ade",
   "metadata": {},
   "outputs": [
    {
     "name": "stdout",
     "output_type": "stream",
     "text": [
      "too high\n"
     ]
    }
   ],
   "source": [
    "if randomnum > 3:\n",
    "    print(\"too low\")\n",
    "elif randomnum <3:\n",
    "    print(\"too high\")\n",
    "else:\n",
    "    print(\"you found it\")"
   ]
  },
  {
   "cell_type": "code",
   "execution_count": 7,
   "id": "fdf84bdc",
   "metadata": {},
   "outputs": [
    {
     "name": "stdout",
     "output_type": "stream",
     "text": [
      "you found it\n"
     ]
    }
   ],
   "source": [
    "if randomnum > 1:\n",
    "    print(\"too low\")\n",
    "elif randomnum <1:\n",
    "    print(\"too high\")\n",
    "else:\n",
    "    print(\"you found it\")"
   ]
  },
  {
   "cell_type": "code",
   "execution_count": null,
   "id": "2e846f75",
   "metadata": {},
   "outputs": [],
   "source": []
  }
 ],
 "metadata": {
  "kernelspec": {
   "display_name": "Python 3 (ipykernel)",
   "language": "python",
   "name": "python3"
  },
  "language_info": {
   "codemirror_mode": {
    "name": "ipython",
    "version": 3
   },
   "file_extension": ".py",
   "mimetype": "text/x-python",
   "name": "python",
   "nbconvert_exporter": "python",
   "pygments_lexer": "ipython3",
   "version": "3.9.13"
  }
 },
 "nbformat": 4,
 "nbformat_minor": 5
}
