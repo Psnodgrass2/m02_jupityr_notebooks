{
 "cells": [
  {
   "cell_type": "code",
   "execution_count": 1,
   "id": "4bf4b9ca",
   "metadata": {},
   "outputs": [],
   "source": [
    "small = False\n",
    "green = False"
   ]
  },
  {
   "cell_type": "code",
   "execution_count": 2,
   "id": "c0b46b9f",
   "metadata": {},
   "outputs": [],
   "source": [
    "if small and green:\n",
    "    print (\"pea\")"
   ]
  },
  {
   "cell_type": "code",
   "execution_count": 3,
   "id": "fc61f3f4",
   "metadata": {},
   "outputs": [],
   "source": [
    "if not small and green:\n",
    "    print (\"watermelon\")"
   ]
  },
  {
   "cell_type": "code",
   "execution_count": 4,
   "id": "3109cb71",
   "metadata": {},
   "outputs": [],
   "source": [
    "if small and not green:\n",
    "    print (\"cherry\")"
   ]
  },
  {
   "cell_type": "code",
   "execution_count": 5,
   "id": "d3733d57",
   "metadata": {},
   "outputs": [
    {
     "name": "stdout",
     "output_type": "stream",
     "text": [
      "pumpkin\n"
     ]
    }
   ],
   "source": [
    "if not small and not green:\n",
    "    print (\"pumpkin\")"
   ]
  },
  {
   "cell_type": "code",
   "execution_count": null,
   "id": "5123f72f",
   "metadata": {},
   "outputs": [],
   "source": []
  },
  {
   "cell_type": "code",
   "execution_count": null,
   "id": "fb72d150",
   "metadata": {},
   "outputs": [],
   "source": []
  }
 ],
 "metadata": {
  "kernelspec": {
   "display_name": "Python 3 (ipykernel)",
   "language": "python",
   "name": "python3"
  },
  "language_info": {
   "codemirror_mode": {
    "name": "ipython",
    "version": 3
   },
   "file_extension": ".py",
   "mimetype": "text/x-python",
   "name": "python",
   "nbconvert_exporter": "python",
   "pygments_lexer": "ipython3",
   "version": "3.9.13"
  }
 },
 "nbformat": 4,
 "nbformat_minor": 5
}
