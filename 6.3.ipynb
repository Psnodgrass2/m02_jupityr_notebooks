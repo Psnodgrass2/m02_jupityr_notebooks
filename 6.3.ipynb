{
 "cells": [
  {
   "cell_type": "code",
   "execution_count": 4,
   "id": "41453e03",
   "metadata": {},
   "outputs": [
    {
     "name": "stdout",
     "output_type": "stream",
     "text": [
      "too low\n",
      "too low\n",
      "too low\n",
      "too low\n",
      "too low\n",
      "found it!\n",
      "oops\n",
      "oops\n",
      "oops\n",
      "oops\n"
     ]
    }
   ],
   "source": [
    "for each in range(10):\n",
    "    if each < 5:\n",
    "        print(\"too low\")\n",
    "    if each == 5:\n",
    "        print(\"found it!\")\n",
    "    if each > 5:\n",
    "        print(\"oops\")"
   ]
  },
  {
   "cell_type": "code",
   "execution_count": null,
   "id": "d15d94e7",
   "metadata": {},
   "outputs": [],
   "source": []
  },
  {
   "cell_type": "code",
   "execution_count": null,
   "id": "d8f8b490",
   "metadata": {},
   "outputs": [],
   "source": []
  },
  {
   "cell_type": "code",
   "execution_count": null,
   "id": "13dbfb1f",
   "metadata": {},
   "outputs": [],
   "source": []
  }
 ],
 "metadata": {
  "kernelspec": {
   "display_name": "Python 3 (ipykernel)",
   "language": "python",
   "name": "python3"
  },
  "language_info": {
   "codemirror_mode": {
    "name": "ipython",
    "version": 3
   },
   "file_extension": ".py",
   "mimetype": "text/x-python",
   "name": "python",
   "nbconvert_exporter": "python",
   "pygments_lexer": "ipython3",
   "version": "3.9.13"
  }
 },
 "nbformat": 4,
 "nbformat_minor": 5
}
